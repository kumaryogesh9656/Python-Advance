{
 "cells": [
  {
   "cell_type": "markdown",
   "id": "20d06387",
   "metadata": {},
   "source": [
    "**Write a program to compute 5/0 and use try/except to catch the exceptions.**"
   ]
  },
  {
   "cell_type": "code",
   "execution_count": 1,
   "id": "2a8dac9e",
   "metadata": {},
   "outputs": [
    {
     "name": "stdout",
     "output_type": "stream",
     "text": [
      "This is False\n",
      "Always run\n"
     ]
    }
   ],
   "source": [
    "try:\n",
    "    a = 5/0\n",
    "    print (a)\n",
    "except:\n",
    "    print (\"This is False\")    \n",
    "else:\n",
    "    print (\"I will run successfully\")\n",
    "finally:\n",
    "    print (\"Always run\")"
   ]
  }
 ],
 "metadata": {
  "kernelspec": {
   "display_name": "Python 3 (ipykernel)",
   "language": "python",
   "name": "python3"
  },
  "language_info": {
   "codemirror_mode": {
    "name": "ipython",
    "version": 3
   },
   "file_extension": ".py",
   "mimetype": "text/x-python",
   "name": "python",
   "nbconvert_exporter": "python",
   "pygments_lexer": "ipython3",
   "version": "3.9.7"
  }
 },
 "nbformat": 4,
 "nbformat_minor": 5
}
