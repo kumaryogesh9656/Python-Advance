{
 "cells": [
  {
   "cell_type": "markdown",
   "id": "4d3c3d9b",
   "metadata": {},
   "source": [
    "**Define a class named Circle which can be constructed by a radius. The Circle class has a method which can compute the area.**"
   ]
  },
  {
   "cell_type": "code",
   "execution_count": 1,
   "id": "b8c08f5e",
   "metadata": {},
   "outputs": [],
   "source": [
    "class Circle:\n",
    "    def __init__(self, radius):\n",
    "        self.radius = radius\n",
    "        \n",
    "    def area(self):\n",
    "        a = 3.14 * self.radius * self.radius\n",
    "        print (\"The area of circle:\", a)"
   ]
  },
  {
   "cell_type": "code",
   "execution_count": 2,
   "id": "e570a314",
   "metadata": {},
   "outputs": [],
   "source": [
    "cir = Circle(4)"
   ]
  },
  {
   "cell_type": "code",
   "execution_count": 3,
   "id": "4686e682",
   "metadata": {},
   "outputs": [
    {
     "name": "stdout",
     "output_type": "stream",
     "text": [
      "The area of circle: 50.24\n"
     ]
    }
   ],
   "source": [
    "cir.area()"
   ]
  }
 ],
 "metadata": {
  "kernelspec": {
   "display_name": "Python 3 (ipykernel)",
   "language": "python",
   "name": "python3"
  },
  "language_info": {
   "codemirror_mode": {
    "name": "ipython",
    "version": 3
   },
   "file_extension": ".py",
   "mimetype": "text/x-python",
   "name": "python",
   "nbconvert_exporter": "python",
   "pygments_lexer": "ipython3",
   "version": "3.9.7"
  }
 },
 "nbformat": 4,
 "nbformat_minor": 5
}
