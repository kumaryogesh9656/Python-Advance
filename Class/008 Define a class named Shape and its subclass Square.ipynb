{
 "cells": [
  {
   "cell_type": "markdown",
   "id": "09fd143a",
   "metadata": {},
   "source": [
    "**Define a class named Shape and its subclass Square. The Square class has an init function which takes a length as argument. Both classes have a area function which can print the area of the shape where Shape's area is 0 by default.**"
   ]
  },
  {
   "cell_type": "code",
   "execution_count": 1,
   "id": "4b54fe1e",
   "metadata": {},
   "outputs": [],
   "source": [
    "class Shape:\n",
    "    def area(self):   \n",
    "        print (0)\n",
    "    \n",
    "class Square(Shape):\n",
    "    def __init__(self, length):\n",
    "        self.length = length \n",
    "        \n",
    "    def area(self):\n",
    "        area = self.length ** 2\n",
    "        print (area)"
   ]
  },
  {
   "cell_type": "code",
   "execution_count": 2,
   "id": "2071a37a",
   "metadata": {},
   "outputs": [
    {
     "name": "stdout",
     "output_type": "stream",
     "text": [
      "Enter the Length: 5\n"
     ]
    }
   ],
   "source": [
    "l = int(input(\"Enter the Length: \"))\n",
    "\n",
    "sh = Shape()\n",
    "sq = Square(l)"
   ]
  },
  {
   "cell_type": "code",
   "execution_count": 3,
   "id": "774656af",
   "metadata": {},
   "outputs": [
    {
     "name": "stdout",
     "output_type": "stream",
     "text": [
      "0\n",
      "25\n"
     ]
    }
   ],
   "source": [
    "sh.area()\n",
    "sq.area()"
   ]
  }
 ],
 "metadata": {
  "kernelspec": {
   "display_name": "Python 3 (ipykernel)",
   "language": "python",
   "name": "python3"
  },
  "language_info": {
   "codemirror_mode": {
    "name": "ipython",
    "version": 3
   },
   "file_extension": ".py",
   "mimetype": "text/x-python",
   "name": "python",
   "nbconvert_exporter": "python",
   "pygments_lexer": "ipython3",
   "version": "3.9.7"
  }
 },
 "nbformat": 4,
 "nbformat_minor": 5
}
