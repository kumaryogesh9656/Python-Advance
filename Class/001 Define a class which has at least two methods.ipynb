{
 "cells": [
  {
   "cell_type": "markdown",
   "id": "4188fac4",
   "metadata": {},
   "source": [
    "**Define a class which has at least two methods: <br/>\n",
    "getString: to get a string from console input <br/>\n",
    "printString: to print the string in upper case**"
   ]
  },
  {
   "cell_type": "code",
   "execution_count": 1,
   "id": "00f1dee4",
   "metadata": {},
   "outputs": [],
   "source": [
    "class St:\n",
    "    def __init__(self):\n",
    "        self.string = \"\"\n",
    "        \n",
    "    def getString(self):\n",
    "        self.string = input(\"Enter the String: \")\n",
    "        \n",
    "    def printString(self):\n",
    "        print (self.string.upper())"
   ]
  },
  {
   "cell_type": "code",
   "execution_count": 2,
   "id": "4e90cb37",
   "metadata": {},
   "outputs": [],
   "source": [
    "s = St()"
   ]
  },
  {
   "cell_type": "code",
   "execution_count": 3,
   "id": "abbc3a8f",
   "metadata": {},
   "outputs": [
    {
     "name": "stdout",
     "output_type": "stream",
     "text": [
      "Enter the String: amit\n",
      "AMIT\n"
     ]
    }
   ],
   "source": [
    "s.getString()\n",
    "s.printString()"
   ]
  }
 ],
 "metadata": {
  "kernelspec": {
   "display_name": "Python 3 (ipykernel)",
   "language": "python",
   "name": "python3"
  },
  "language_info": {
   "codemirror_mode": {
    "name": "ipython",
    "version": 3
   },
   "file_extension": ".py",
   "mimetype": "text/x-python",
   "name": "python",
   "nbconvert_exporter": "python",
   "pygments_lexer": "ipython3",
   "version": "3.9.7"
  }
 },
 "nbformat": 4,
 "nbformat_minor": 5
}
