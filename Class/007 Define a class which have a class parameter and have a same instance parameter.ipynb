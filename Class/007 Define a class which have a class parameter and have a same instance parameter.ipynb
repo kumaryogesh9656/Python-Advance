{
 "cells": [
  {
   "cell_type": "markdown",
   "id": "e2f7fb38",
   "metadata": {},
   "source": [
    "**Define a class which have a class parameter and have a same instance parameter.**"
   ]
  },
  {
   "cell_type": "code",
   "execution_count": 1,
   "id": "8b3bd2c9",
   "metadata": {},
   "outputs": [],
   "source": [
    "class Person:\n",
    "    name = \"Person\"\n",
    "    \n",
    "    def __init__(self, name):\n",
    "        self.name = name"
   ]
  },
  {
   "cell_type": "code",
   "execution_count": 2,
   "id": "ba8c9e81",
   "metadata": {},
   "outputs": [],
   "source": [
    "insance_parameter = Person(\"Amit\")"
   ]
  },
  {
   "cell_type": "code",
   "execution_count": 3,
   "id": "fa753d1c",
   "metadata": {},
   "outputs": [
    {
     "name": "stdout",
     "output_type": "stream",
     "text": [
      "Person name is Amit\n"
     ]
    }
   ],
   "source": [
    "print (f\"{Person.name} name is {insance_parameter.name}\")"
   ]
  }
 ],
 "metadata": {
  "kernelspec": {
   "display_name": "Python 3 (ipykernel)",
   "language": "python",
   "name": "python3"
  },
  "language_info": {
   "codemirror_mode": {
    "name": "ipython",
    "version": 3
   },
   "file_extension": ".py",
   "mimetype": "text/x-python",
   "name": "python",
   "nbconvert_exporter": "python",
   "pygments_lexer": "ipython3",
   "version": "3.9.7"
  }
 },
 "nbformat": 4,
 "nbformat_minor": 5
}
