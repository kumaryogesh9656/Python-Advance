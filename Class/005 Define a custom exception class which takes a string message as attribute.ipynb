{
 "cells": [
  {
   "cell_type": "markdown",
   "id": "2057dc65",
   "metadata": {},
   "source": [
    "**Define a custom exception class which takes a string message as attribute.**"
   ]
  },
  {
   "cell_type": "code",
   "execution_count": 1,
   "id": "87dfc480",
   "metadata": {},
   "outputs": [],
   "source": [
    "class custom_exception:\n",
    "    def __init__(self):\n",
    "        self.message = input(\"Enter your message: \")\n",
    "        print (self.message)"
   ]
  },
  {
   "cell_type": "code",
   "execution_count": 2,
   "id": "50eeec43",
   "metadata": {},
   "outputs": [
    {
     "name": "stdout",
     "output_type": "stream",
     "text": [
      "Enter your message: This message is for everyone\n",
      "This message is for everyone\n"
     ]
    }
   ],
   "source": [
    "ce = custom_exception()"
   ]
  }
 ],
 "metadata": {
  "kernelspec": {
   "display_name": "Python 3 (ipykernel)",
   "language": "python",
   "name": "python3"
  },
  "language_info": {
   "codemirror_mode": {
    "name": "ipython",
    "version": 3
   },
   "file_extension": ".py",
   "mimetype": "text/x-python",
   "name": "python",
   "nbconvert_exporter": "python",
   "pygments_lexer": "ipython3",
   "version": "3.9.7"
  }
 },
 "nbformat": 4,
 "nbformat_minor": 5
}
