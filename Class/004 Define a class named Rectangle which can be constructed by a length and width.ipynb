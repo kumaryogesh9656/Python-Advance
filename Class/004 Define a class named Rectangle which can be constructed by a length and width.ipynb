{
 "cells": [
  {
   "cell_type": "markdown",
   "id": "98ea6780",
   "metadata": {},
   "source": [
    "**Define a class named Rectangle which can be constructed by a length and width. The Rectangle class has a method which can compute the area.**"
   ]
  },
  {
   "cell_type": "code",
   "execution_count": 1,
   "id": "6537930c",
   "metadata": {},
   "outputs": [],
   "source": [
    "class Rectangle:\n",
    "    def __init__(self, length, width):\n",
    "        self.length = length\n",
    "        self.width = width\n",
    "        \n",
    "    def area(self):\n",
    "        area = self.length * self.width\n",
    "        print (\"Area of Rectangle:\", area)"
   ]
  },
  {
   "cell_type": "code",
   "execution_count": 2,
   "id": "79d86355",
   "metadata": {},
   "outputs": [
    {
     "name": "stdout",
     "output_type": "stream",
     "text": [
      "Enter the Length: 5\n",
      "Enter the Width : 4\n"
     ]
    }
   ],
   "source": [
    "l = int(input(\"Enter the Length: \"))\n",
    "w = int(input(\"Enter the Width : \"))\n",
    "\n",
    "rec = Rectangle(l, w)"
   ]
  },
  {
   "cell_type": "code",
   "execution_count": 3,
   "id": "a48faa2e",
   "metadata": {},
   "outputs": [
    {
     "name": "stdout",
     "output_type": "stream",
     "text": [
      "Area of Rectangle: 20\n"
     ]
    }
   ],
   "source": [
    "rec.area()"
   ]
  }
 ],
 "metadata": {
  "kernelspec": {
   "display_name": "Python 3 (ipykernel)",
   "language": "python",
   "name": "python3"
  },
  "language_info": {
   "codemirror_mode": {
    "name": "ipython",
    "version": 3
   },
   "file_extension": ".py",
   "mimetype": "text/x-python",
   "name": "python",
   "nbconvert_exporter": "python",
   "pygments_lexer": "ipython3",
   "version": "3.9.7"
  }
 },
 "nbformat": 4,
 "nbformat_minor": 5
}
