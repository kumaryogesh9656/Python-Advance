{
 "cells": [
  {
   "cell_type": "markdown",
   "id": "3ba2e505",
   "metadata": {},
   "source": [
    "**Define a class Person and its two child classes: Male and Female. All classes have a method 'getGender' which can print 'Male' for Male class and 'Female' for Female class.**"
   ]
  },
  {
   "cell_type": "code",
   "execution_count": 1,
   "id": "ecb40d34",
   "metadata": {},
   "outputs": [],
   "source": [
    "class Person:\n",
    "    def __init__(self):\n",
    "        self.gender = \"\"\n",
    "    \n",
    "    def getGender(self):\n",
    "        print (self.gender)\n",
    "    \n",
    "class Male(Person):\n",
    "    def __init__(self):\n",
    "        self.gender = \"Male\"\n",
    "        \n",
    "class Female(Person):\n",
    "    def __init__(self):\n",
    "        self.gender = \"Female\""
   ]
  },
  {
   "cell_type": "code",
   "execution_count": 2,
   "id": "03ada195",
   "metadata": {},
   "outputs": [],
   "source": [
    "male = Male()\n",
    "female = Female()"
   ]
  },
  {
   "cell_type": "code",
   "execution_count": 3,
   "id": "15fc5f7a",
   "metadata": {},
   "outputs": [
    {
     "name": "stdout",
     "output_type": "stream",
     "text": [
      "Male\n",
      "Female\n"
     ]
    }
   ],
   "source": [
    "male.getGender()\n",
    "female.getGender()"
   ]
  },
  {
   "cell_type": "markdown",
   "id": "e1413e08",
   "metadata": {},
   "source": [
    "**OR**"
   ]
  },
  {
   "cell_type": "code",
   "execution_count": 1,
   "id": "0ab7d2e2",
   "metadata": {},
   "outputs": [],
   "source": [
    "class Person:  \n",
    "    def getGender(self):  \n",
    "        return \"\"  \n",
    "    \n",
    "class Male(Person):  \n",
    "    def getGender(self):  \n",
    "        return \"Male\"  \n",
    "    \n",
    "class Female(Person):  \n",
    "    def getGender(self):  \n",
    "        return \"Female\""
   ]
  },
  {
   "cell_type": "code",
   "execution_count": 2,
   "id": "8a576070",
   "metadata": {},
   "outputs": [],
   "source": [
    "m = Male()  \n",
    "f = Female()"
   ]
  },
  {
   "cell_type": "code",
   "execution_count": 3,
   "id": "94a7d30a",
   "metadata": {},
   "outputs": [
    {
     "name": "stdout",
     "output_type": "stream",
     "text": [
      "Male\n",
      "Female\n"
     ]
    }
   ],
   "source": [
    "print (m.getGender())  \n",
    "print (f.getGender())"
   ]
  }
 ],
 "metadata": {
  "kernelspec": {
   "display_name": "Python 3 (ipykernel)",
   "language": "python",
   "name": "python3"
  },
  "language_info": {
   "codemirror_mode": {
    "name": "ipython",
    "version": 3
   },
   "file_extension": ".py",
   "mimetype": "text/x-python",
   "name": "python",
   "nbconvert_exporter": "python",
   "pygments_lexer": "ipython3",
   "version": "3.9.7"
  }
 },
 "nbformat": 4,
 "nbformat_minor": 5
}
